{
 "cells": [
  {
   "cell_type": "code",
   "execution_count": null,
   "metadata": {
    "collapsed": false
   },
   "outputs": [],
   "source": [
    "######################## Import libraries and drivers ########\n",
    "from pynq import Overlay      # Used to load FPGA Overay\n",
    "from pynq.drivers import DMA  # Used to interface with DMA blocls\n",
    "from time import sleep        # Pause CPU\n",
    "import numpy as np            # Used for window function\n",
    "import serial                 # Serial Communication\n",
    "import Setup                  # Set up hardware blocks\n",
    "import data_read              # Read hardware block outputs\n",
    "import note_detect            # Detect notes played\n",
    "########################### Overlay ###########################\n",
    "# Overlay bitstream location\n",
    "ol = Overlay(\"RTAA.bit\")\n",
    "# Download bitstream to kernel\n",
    "ol.download()\n",
    "########################### Constants #########################\n",
    "Threshold = 1800\n",
    "offset = 1720                # Voltage offset at input\n",
    "transfer_XADC = 8192         # transfer size of ADC DMA block\n",
    "transfer_XFFT = 8192         # transfer size of FFT DMA block\n",
    "n = '0000000000000000000000000000000000000' # initialise Note variable\n",
    "######### FFT setup scaling factors and fwd/inverse ##########\n",
    "# /4 /2 /4 /2 /4 /2 /4 /2 /4 /2 /4 /2 /4 /2    FWD(1)/INV(0)\n",
    "set_FFT = 0b000000000010101  # \n",
    "########################### Kaiser Window ####################\n",
    "w = np.kaiser(2048, 2);\n",
    "########################## IP Setup ##########################\n",
    "Setup.gpio_setup(transfer_XADC, transfer_XFFT, set_FFT)\n",
    "########################## DMA Setup #########################\n",
    "dma_xadc= DMA(0x40420000, 1)     # Object for XADC DMA block\n",
    "dma_ffti = DMA(0x40410000, 0)    # Object for FFT input DMA block\n",
    "dma_ffto= DMA(0x40400000, 1)     # Object for FFT output DMA block\n",
    "dma_ffti.create_buf(8192)\n",
    "ffti_buffer = dma_ffti.get_buf(32) # FFT input buffer for DMA\n",
    "dma_xadc.create_buf(8192)\n",
    "xadc_buffer = dma_xadc.get_buf(32) # ADC output buffer for DMA\n",
    "dma_ffto.create_buf(8192)\n",
    "ffto_buffer = dma_ffto.get_buf(32) # FFT output buffer for DMA\n",
    "####################### Serial Connection Setup ##############\n",
    "ser = serial.Serial(port='/dev/ttyPS0',baudrate=115200)\n",
    "###################### Main Loop #############################\n",
    "while(1):\n",
    "    ################# FFT Input ##############################\n",
    "    dma_xadc.transfer(transfer_XADC, 1) # transfer ADC values from FPGA\n",
    "    sleep(0.05)\n",
    "    for i in range(2048):               # fill input buffer with windowed ADC output values\n",
    "        ffti_buffer[i] = int(w[i]*(data_read.xadc_val(xadc_buffer[i])-offset) + offset)   \n",
    "    dma_ffti.transfer(transfer_XFFT, 0) # transfer first 2048 values to fft block\n",
    "    for i in range(2048):               # append the input with the voltage offset\n",
    "        ffti_buffer[i] = offset\n",
    "    for i in range(3):                 # transfer the remaining 6144 values\n",
    "        dma_ffti.transfer(transfer_XFFT, 0)\n",
    "    ################# FFT Output #############################\n",
    "    dma_ffto.transfer(transfer_XFFT, 1) # transfer the output of the fft from the FPGA\n",
    "    f4 = [0]*512                        # k vales for fft ouput where resolution is 4 Hz\n",
    "    for i in range(0,2048):\n",
    "        if(data_read.comp(ffto_buffer[i])>(Threshold)):            # threshold to determine note is present\n",
    "            f4[i]=1           # set element to high if note is present\n",
    "    ############### Note Detection ##########################\n",
    "    n = note_detect.note(f4)\n",
    "    ser.write(str.encode(n))      # Send a string to a PC via serial\n",
    "\n",
    "    for i in range(3):\n",
    "        dma_ffto.transfer(transfer_XFFT, 1)\n",
    "        dma_ffto.free_buf()\n",
    "        dma_ffto.create_buf(8192)\n",
    "        ffto_buffer = dma_ffto.get_buf(32)\n",
    "    \n",
    "ser.close()             # close serial port"
   ]
  },
  {
   "cell_type": "code",
   "execution_count": null,
   "metadata": {
    "collapsed": true
   },
   "outputs": [],
   "source": []
  },
  {
   "cell_type": "code",
   "execution_count": null,
   "metadata": {
    "collapsed": true
   },
   "outputs": [],
   "source": []
  }
 ],
 "metadata": {
  "kernelspec": {
   "display_name": "Python 3",
   "language": "python",
   "name": "python3"
  },
  "language_info": {
   "codemirror_mode": {
    "name": "ipython",
    "version": 3
   },
   "file_extension": ".py",
   "mimetype": "text/x-python",
   "name": "python",
   "nbconvert_exporter": "python",
   "pygments_lexer": "ipython3",
   "version": "3.4.3+"
  }
 },
 "nbformat": 4,
 "nbformat_minor": 1
}
